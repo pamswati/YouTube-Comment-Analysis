{
 "cells": [
  {
   "cell_type": "markdown",
   "metadata": {},
   "source": [
    "## **Training Model For Sentiment Analysis**"
   ]
  },
  {
   "cell_type": "code",
   "execution_count": null,
   "metadata": {},
   "outputs": [],
   "source": [
    "import pandas as pd\n",
    "from sklearn.feature_extraction.text import CountVectorizer\n",
    "from sklearn.ensemble import RandomForestClassifier\n",
    "import joblib\n",
    "import re\n",
    "import nltk\n",
    "from nltk.corpus import stopwords\n",
    "\n",
    "# Download required NLTK data\n",
    "nltk.download(\"stopwords\")\n",
    "stop_words = set(stopwords.words(\"english\"))\n",
    "\n",
    "# Load training data (Replace with your actual dataset)\n",
    "df = pd.read_csv(\"/content/drive/My Drive/Colab Notebooks/final_data.csv\")  # Ensure this dataset is available\n",
    "df.columns = [\"comment\", \"category\"]\n",
    "df.drop_duplicates(inplace=True)\n",
    "\n",
    "# Preprocess data\n",
    "def clean_text(text):\n",
    "    text = text.lower()\n",
    "    text = re.sub(r\"http\\S+|www\\S+\", \"\", text)\n",
    "    text = re.sub(r\"\\d+\", \"\", text)\n",
    "    text = re.sub(r\"[^\\w\\s]\", \"\", text)\n",
    "    text = \" \".join([word for word in text.split() if word not in stop_words])\n",
    "    return text.strip()\n",
    "\n",
    "df[\"comment\"] = df[\"comment\"].apply(clean_text)\n",
    "\n",
    "# Vectorize and train model\n",
    "vectorizer = CountVectorizer(min_df=5)\n",
    "X = vectorizer.fit_transform(df[\"comment\"])\n",
    "y = df[\"category\"]\n",
    "\n",
    "model = RandomForestClassifier(n_estimators=100, random_state=42)\n",
    "model.fit(X, y)\n",
    "\n",
    "# Save model and vectorizer\n",
    "joblib.dump(vectorizer, \"/content/drive/My Drive/Colab Notebooks/vectorizer.pkl\")\n",
    "joblib.dump(model, \"/content/drive/My Drive/Colab Notebooks/sentiment_model.pkl\")\n",
    "\n",
    "print(\"✅ Model and vectorizer saved successfully!\")\n"
   ]
  }
 ],
 "metadata": {
  "language_info": {
   "name": "python"
  }
 },
 "nbformat": 4,
 "nbformat_minor": 2
}
